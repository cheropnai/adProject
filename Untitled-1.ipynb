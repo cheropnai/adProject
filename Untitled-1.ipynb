{
 "cells": [
  {
   "cell_type": "code",
   "execution_count": null,
   "metadata": {},
   "outputs": [],
   "source": [
    "import pandas as pd\n",
    "\n",
    "# Load your dataset (replace 'your_dataset.csv' with the path to your file)\n",
    "df = pd.read_csv('ADNIMERGE_10Sep2024.csv')\n",
    "\n",
    "# Display the first few rows of the dataset\n",
    "print(\"First few rows of the dataset:\")\n",
    "print(df.head())\n",
    "\n",
    "# Show basic information about the dataset (number of rows, columns, data types, etc.)\n",
    "print(\"\\nDataset Info:\")\n",
    "print(df.info())\n",
    "\n",
    "# Display descriptive statistics for numerical columns\n",
    "print(\"\\nDescriptive Statistics for Numerical Columns:\")\n",
    "print(df.describe())\n",
    "\n",
    "# Show the number of missing values for each column\n",
    "print(\"\\nMissing Values in Each Column:\")\n",
    "print(df.isnull().sum())\n",
    "\n",
    "# Display the number of unique values for each column\n",
    "print(\"\\nUnique Values in Each Column:\")\n",
    "print(df.nunique())\n",
    "\n",
    "# If there are categorical columns, display their unique values\n",
    "categorical_columns = df.select_dtypes(include=['object']).columns\n",
    "if len(categorical_columns) > 0:\n",
    "    print(\"\\nUnique Values in Categorical Columns:\")\n",
    "    for col in categorical_columns:\n",
    "        print(f\"{col}: {df[col].unique()}\")\n",
    "\n",
    "# Display correlation matrix for numerical features\n",
    "print(\"\\nCorrelation Matrix:\")\n",
    "print(df.corr())\n"
   ]
  }
 ],
 "metadata": {
  "language_info": {
   "name": "python"
  }
 },
 "nbformat": 4,
 "nbformat_minor": 2
}
